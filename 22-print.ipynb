{
 "cells": [
  {
   "cell_type": "code",
   "execution_count": 2,
   "metadata": {},
   "outputs": [
    {
     "name": "stdout",
     "output_type": "stream",
     "text": [
      "30\n"
     ]
    }
   ],
   "source": [
    "a = 10\n",
    "b = 20\n",
    "c = a+b\n",
    "print(c)"
   ]
  },
  {
   "cell_type": "code",
   "execution_count": 3,
   "metadata": {},
   "outputs": [
    {
     "name": "stdout",
     "output_type": "stream",
     "text": [
      "Shubhra\n"
     ]
    }
   ],
   "source": [
    "x = 'Shubhra'\n",
    "print(x)"
   ]
  },
  {
   "cell_type": "code",
   "execution_count": 4,
   "metadata": {},
   "outputs": [],
   "source": [
    "t1 = \"Amit\""
   ]
  },
  {
   "cell_type": "code",
   "execution_count": 5,
   "metadata": {},
   "outputs": [],
   "source": [
    "t2 = \"vidya\"\n",
    "t3 = 'simran'"
   ]
  },
  {
   "cell_type": "code",
   "execution_count": 6,
   "metadata": {},
   "outputs": [
    {
     "name": "stdout",
     "output_type": "stream",
     "text": [
      "hello Amit\n"
     ]
    }
   ],
   "source": [
    "print(\"hello\", t1)"
   ]
  },
  {
   "cell_type": "code",
   "execution_count": 7,
   "metadata": {},
   "outputs": [
    {
     "name": "stdout",
     "output_type": "stream",
     "text": [
      "hello Amit vidya simran\n"
     ]
    }
   ],
   "source": [
    "print(\"hello\", t1, t2, t3)"
   ]
  },
  {
   "cell_type": "code",
   "execution_count": 8,
   "metadata": {},
   "outputs": [],
   "source": [
    "t4 = \"Sandeep\""
   ]
  },
  {
   "cell_type": "code",
   "execution_count": 9,
   "metadata": {},
   "outputs": [
    {
     "name": "stdout",
     "output_type": "stream",
     "text": [
      "I HATE YOU Sandeep\n"
     ]
    }
   ],
   "source": [
    "print(\"I HATE YOU\", t4)"
   ]
  },
  {
   "cell_type": "code",
   "execution_count": 10,
   "metadata": {},
   "outputs": [
    {
     "name": "stdout",
     "output_type": "stream",
     "text": [
      " You haven't planned our honeymoon yet.\n"
     ]
    }
   ],
   "source": [
    "print(\" You haven't planned our honeymoon yet.\")"
   ]
  },
  {
   "cell_type": "code",
   "execution_count": 11,
   "metadata": {},
   "outputs": [
    {
     "name": "stdout",
     "output_type": "stream",
     "text": [
      "Shadi se pehle ye krenge wo krenge. per krna kuch nhi hai.\n"
     ]
    }
   ],
   "source": [
    "print(\"Shadi se pehle ye krenge wo krenge. per krna kuch nhi hai.\")"
   ]
  },
  {
   "cell_type": "code",
   "execution_count": 12,
   "metadata": {},
   "outputs": [],
   "source": [
    " a= 5"
   ]
  },
  {
   "cell_type": "code",
   "execution_count": 13,
   "metadata": {},
   "outputs": [
    {
     "name": "stdout",
     "output_type": "stream",
     "text": [
      "5\n"
     ]
    }
   ],
   "source": [
    "print(a)"
   ]
  },
  {
   "cell_type": "code",
   "execution_count": 14,
   "metadata": {},
   "outputs": [
    {
     "name": "stdout",
     "output_type": "stream",
     "text": [
      "6\n",
      "7\n",
      "8\n"
     ]
    }
   ],
   "source": [
    "a=a+1;print(a);a=a+1;print(a);a=a+1;print(a)"
   ]
  },
  {
   "attachments": {},
   "cell_type": "markdown",
   "metadata": {},
   "source": [
    "This is known as sequence."
   ]
  },
  {
   "cell_type": "code",
   "execution_count": 15,
   "metadata": {},
   "outputs": [
    {
     "name": "stdout",
     "output_type": "stream",
     "text": [
      "1\n",
      "2\n",
      "3\n",
      "4\n",
      "5\n",
      "6\n",
      "7\n",
      "8\n",
      "9\n"
     ]
    }
   ],
   "source": [
    "a=1 \n",
    "print(a)\n",
    "a=a+1\n",
    "print(a)\n",
    "a=a+1\n",
    "print(a)\n",
    "a=a+1\n",
    "print(a)\n",
    "a=a+1\n",
    "print(a)\n",
    "a=a+1\n",
    "print(a)\n",
    "a=a+1\n",
    "print(a)\n",
    "a=a+1\n",
    "print(a)\n",
    "a=a+1\n",
    "print(a)"
   ]
  },
  {
   "attachments": {},
   "cell_type": "markdown",
   "metadata": {},
   "source": [
    "This is an another way of assigning no. to a variable."
   ]
  },
  {
   "cell_type": "code",
   "execution_count": 16,
   "metadata": {},
   "outputs": [],
   "source": [
    "n=input(\"What is your husband's name?\")"
   ]
  },
  {
   "cell_type": "code",
   "execution_count": 17,
   "metadata": {},
   "outputs": [
    {
     "name": "stdout",
     "output_type": "stream",
     "text": [
      "Sandeep\n"
     ]
    }
   ],
   "source": [
    "print(n)"
   ]
  },
  {
   "cell_type": "code",
   "execution_count": 18,
   "metadata": {},
   "outputs": [
    {
     "name": "stdout",
     "output_type": "stream",
     "text": [
      "Hello Sandeep\n"
     ]
    }
   ],
   "source": [
    "print(\"Hello\",n)"
   ]
  },
  {
   "cell_type": "code",
   "execution_count": 19,
   "metadata": {},
   "outputs": [
    {
     "name": "stdout",
     "output_type": "stream",
     "text": [
      "You are very busy Sandeep .\n",
      "You have no time for me Sandeep .\n",
      "I m getting bored Sandeep .\n"
     ]
    }
   ],
   "source": [
    "print(\"You are very busy\", n,\".\")\n",
    "print (\"You have no time for me\",n,\".\")\n",
    "print (\"I m getting bored\",n,\".\")"
   ]
  },
  {
   "cell_type": "code",
   "execution_count": 20,
   "metadata": {},
   "outputs": [
    {
     "name": "stdout",
     "output_type": "stream",
     "text": [
      "What is the cost of your t-shirt?\n"
     ]
    }
   ],
   "source": [
    "print(\"What is the cost of your t-shirt?\")"
   ]
  },
  {
   "cell_type": "code",
   "execution_count": 21,
   "metadata": {},
   "outputs": [],
   "source": [
    "c=input(\"What is the cost of your t-shirt?\")"
   ]
  },
  {
   "cell_type": "code",
   "execution_count": 22,
   "metadata": {},
   "outputs": [
    {
     "name": "stdout",
     "output_type": "stream",
     "text": [
      "199\n"
     ]
    }
   ],
   "source": [
    "print(c)"
   ]
  },
  {
   "cell_type": "code",
   "execution_count": 23,
   "metadata": {},
   "outputs": [
    {
     "name": "stdout",
     "output_type": "stream",
     "text": [
      "199\n"
     ]
    }
   ],
   "source": [
    "d=input(c)\n",
    "print(d)"
   ]
  },
  {
   "cell_type": "code",
   "execution_count": 24,
   "metadata": {},
   "outputs": [],
   "source": [
    "e=int(d)"
   ]
  },
  {
   "cell_type": "code",
   "execution_count": 25,
   "metadata": {},
   "outputs": [],
   "source": [
    "answer=0.5*e"
   ]
  },
  {
   "cell_type": "code",
   "execution_count": 26,
   "metadata": {},
   "outputs": [
    {
     "name": "stdout",
     "output_type": "stream",
     "text": [
      "99.5\n"
     ]
    }
   ],
   "source": [
    "print(answer)"
   ]
  },
  {
   "cell_type": "code",
   "execution_count": 27,
   "metadata": {},
   "outputs": [
    {
     "name": "stdout",
     "output_type": "stream",
     "text": [
      "Shubhra: Hi Sandeep . Let us compute the discounted cost of your t-shirt.\n",
      "Sandeep: Ok. Cost price of my t-shirt is 199 .\n",
      "Cost after discount is 99.5 .\n",
      "Shubhra: At what price you have sold this t-shirt?\n",
      "Sandeep: Selling price of my t-shirt is 199.0 .\n"
     ]
    }
   ],
   "source": [
    "print(\"Shubhra: Hi\",n,\".\",\"Let us compute the discounted cost of your t-shirt.\")\n",
    "c=input(\"Cost price of your t-shirt-\")\n",
    "d=int(c)\n",
    "print(\"Sandeep: Ok. Cost price of my t-shirt is\",d,\".\")\n",
    "answer=0.5*d\n",
    "print(\"Cost after discount is\",answer,\".\")\n",
    "s=answer+0.5*d\n",
    "print(\"Shubhra: At what price you have sold this t-shirt?\")\n",
    "print(\"Sandeep: Selling price of my t-shirt is\",s,\".\")"
   ]
  },
  {
   "cell_type": "code",
   "execution_count": 42,
   "metadata": {},
   "outputs": [
    {
     "name": "stdout",
     "output_type": "stream",
     "text": [
      "How are you Sandeep ?\n",
      "You selected choice 1 so- I am happy\n",
      "I want to dance with my wife.\n"
     ]
    }
   ],
   "source": [
    "print(\"How are you\",n,\"?\")\n",
    "k=input(\"please enter your choice\")\n",
    "f=int(k)\n",
    "if(f==1):\n",
    "    print(\"You selected choice 1 so- I am happy\")\n",
    "    print(\"I want to dance with my wife.\")\n",
    "if(f==2):\n",
    "     print(\"You selected choice 2 so- I am sad\")\n",
    "     print(\"I want to be alone.\")\n",
    "if(f==3):\n",
    "    print(\"You selected choice 3 so- I am Hungry.\")\n",
    "    print(\"I need food.\")"
   ]
  },
  {
   "attachments": {},
   "cell_type": "markdown",
   "metadata": {},
   "source": [
    "if condition in python."
   ]
  }
 ],
 "metadata": {
  "kernelspec": {
   "display_name": "base",
   "language": "python",
   "name": "python3"
  },
  "language_info": {
   "codemirror_mode": {
    "name": "ipython",
    "version": 3
   },
   "file_extension": ".py",
   "mimetype": "text/x-python",
   "name": "python",
   "nbconvert_exporter": "python",
   "pygments_lexer": "ipython3",
   "version": "3.9.13 (main, Aug 25 2022, 23:51:50) [MSC v.1916 64 bit (AMD64)]"
  },
  "orig_nbformat": 4,
  "vscode": {
   "interpreter": {
    "hash": "bfe1ecac983c562e00305dfe3139c700b00def61f8b7b32c0dd12dacd33ac83b"
   }
  }
 },
 "nbformat": 4,
 "nbformat_minor": 2
}
