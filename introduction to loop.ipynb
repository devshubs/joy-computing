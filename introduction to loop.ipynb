{
 "cells": [
  {
   "cell_type": "code",
   "execution_count": 1,
   "metadata": {},
   "outputs": [
    {
     "name": "stdout",
     "output_type": "stream",
     "text": [
      "Sandeep, you are very busy.\n",
      "Sandeep, you are very busy.\n",
      "Sandeep, you are very busy.\n",
      "Sandeep, you are very busy.\n",
      "Sandeep, you are very busy.\n",
      "Sandeep, you are very busy.\n",
      "Sandeep, you are very busy.\n",
      "Sandeep, you are very busy.\n",
      "Sandeep, you are very busy.\n",
      "Sandeep, you are very busy.\n",
      "Sandeep, you are very busy.\n",
      "Sandeep, you are very busy.\n",
      "Sandeep, you are very busy.\n",
      "Sandeep, you are very busy.\n",
      "Sandeep, you are very busy.\n",
      "Sandeep, you are very busy.\n",
      "Sandeep, you are very busy.\n",
      "Sandeep, you are very busy.\n",
      "Sandeep, you are very busy.\n",
      "Sandeep, you are very busy.\n",
      "Sandeep, you are very busy.\n",
      "Sandeep, you are very busy.\n",
      "Sandeep, you are very busy.\n",
      "Sandeep, you are very busy.\n",
      "Sandeep, you are very busy.\n",
      "Sandeep, you are very busy.\n",
      "Sandeep, you are very busy.\n",
      "Sandeep, you are very busy.\n",
      "Sandeep, you are very busy.\n",
      "Sandeep, you are very busy.\n",
      "Sandeep, you are very busy.\n",
      "Sandeep, you are very busy.\n",
      "Sandeep, you are very busy.\n",
      "Sandeep, you are very busy.\n",
      "Sandeep, you are very busy.\n",
      "Sandeep, you are very busy.\n",
      "Sandeep, you are very busy.\n",
      "Sandeep, you are very busy.\n",
      "Sandeep, you are very busy.\n",
      "Sandeep, you are very busy.\n",
      "Sandeep, you are very busy.\n",
      "Sandeep, you are very busy.\n",
      "Sandeep, you are very busy.\n",
      "Sandeep, you are very busy.\n",
      "Sandeep, you are very busy.\n",
      "Sandeep, you are very busy.\n",
      "Sandeep, you are very busy.\n",
      "Sandeep, you are very busy.\n",
      "Sandeep, you are very busy.\n",
      "Sandeep, you are very busy.\n",
      "Sandeep, you are very busy.\n",
      "Sandeep, you are very busy.\n",
      "Sandeep, you are very busy.\n",
      "Sandeep, you are very busy.\n",
      "Sandeep, you are very busy.\n",
      "Sandeep, you are very busy.\n",
      "Sandeep, you are very busy.\n",
      "Sandeep, you are very busy.\n",
      "Sandeep, you are very busy.\n",
      "Sandeep, you are very busy.\n",
      "Sandeep, you are very busy.\n",
      "Sandeep, you are very busy.\n",
      "Sandeep, you are very busy.\n",
      "Sandeep, you are very busy.\n",
      "Sandeep, you are very busy.\n",
      "Sandeep, you are very busy.\n",
      "Sandeep, you are very busy.\n",
      "Sandeep, you are very busy.\n",
      "Sandeep, you are very busy.\n",
      "Sandeep, you are very busy.\n",
      "Sandeep, you are very busy.\n",
      "Sandeep, you are very busy.\n",
      "Sandeep, you are very busy.\n",
      "Sandeep, you are very busy.\n",
      "Sandeep, you are very busy.\n",
      "Sandeep, you are very busy.\n",
      "Sandeep, you are very busy.\n",
      "Sandeep, you are very busy.\n",
      "Sandeep, you are very busy.\n",
      "Sandeep, you are very busy.\n",
      "Sandeep, you are very busy.\n",
      "Sandeep, you are very busy.\n",
      "Sandeep, you are very busy.\n",
      "Sandeep, you are very busy.\n",
      "Sandeep, you are very busy.\n",
      "Sandeep, you are very busy.\n",
      "Sandeep, you are very busy.\n",
      "Sandeep, you are very busy.\n",
      "Sandeep, you are very busy.\n",
      "Sandeep, you are very busy.\n",
      "Sandeep, you are very busy.\n",
      "Sandeep, you are very busy.\n",
      "Sandeep, you are very busy.\n",
      "Sandeep, you are very busy.\n",
      "Sandeep, you are very busy.\n",
      "Sandeep, you are very busy.\n",
      "Sandeep, you are very busy.\n",
      "Sandeep, you are very busy.\n",
      "Sandeep, you are very busy.\n",
      "Sandeep, you are very busy.\n"
     ]
    }
   ],
   "source": [
    "for i in range(100):\n",
    "    print(\"Sandeep, you are very busy.\" )"
   ]
  },
  {
   "cell_type": "code",
   "execution_count": 2,
   "metadata": {},
   "outputs": [
    {
     "name": "stdout",
     "output_type": "stream",
     "text": [
      "0\n",
      "1\n",
      "2\n",
      "3\n",
      "4\n",
      "5\n",
      "6\n",
      "7\n",
      "8\n",
      "9\n"
     ]
    }
   ],
   "source": [
    "for i in range(10):\n",
    "    print(i)"
   ]
  },
  {
   "cell_type": "code",
   "execution_count": 3,
   "metadata": {},
   "outputs": [
    {
     "name": "stdout",
     "output_type": "stream",
     "text": [
      "I will give you 0 hugs.\n",
      "I will give you 1 hugs.\n",
      "I will give you 2 hugs.\n",
      "I will give you 3 hugs.\n",
      "I will give you 4 hugs.\n",
      "I will give you 5 hugs.\n",
      "I will give you 6 hugs.\n",
      "I will give you 7 hugs.\n",
      "I will give you 8 hugs.\n",
      "I will give you 9 hugs.\n"
     ]
    }
   ],
   "source": [
    "for i in range(10):\n",
    "    print(\"I will give you\", i, \"hugs.\")\n"
   ]
  },
  {
   "cell_type": "code",
   "execution_count": 4,
   "metadata": {},
   "outputs": [
    {
     "name": "stdout",
     "output_type": "stream",
     "text": [
      "I will give you 0 hugs.\n",
      "I will give you 1 hugs.\n",
      "I will give you 2 hugs.\n",
      "I will give you 3 hugs.\n",
      "I will give you 4 hugs.\n",
      "I will give you 5 hugs.\n",
      "I will give you 6 hugs.\n",
      "I will give you 7 hugs.\n",
      "I will give you 8 hugs.\n",
      "I will give you 9 hugs.\n",
      "I will give you 10 hugs.\n"
     ]
    }
   ],
   "source": [
    "for i in range(11):\n",
    "    print(\"I will give you\", i, \"hugs.\")"
   ]
  },
  {
   "cell_type": "code",
   "execution_count": 5,
   "metadata": {},
   "outputs": [
    {
     "name": "stdout",
     "output_type": "stream",
     "text": [
      "I will give you 0 hugs.\n",
      "I will give you 1 hugs.\n",
      "I will give you 3 hugs.\n",
      "I will give you 6 hugs.\n",
      "I will give you 10 hugs.\n",
      "I will give you 15 hugs.\n",
      "I will give you 21 hugs.\n",
      "I will give you 28 hugs.\n",
      "I will give you 36 hugs.\n",
      "I will give you 45 hugs.\n",
      "I will give you 55 hugs.\n"
     ]
    }
   ],
   "source": [
    " a=0 \n",
    " for i in range(11):\n",
    "    a=a+i\n",
    "    print(\"I will give you\", a, \"hugs.\")"
   ]
  },
  {
   "cell_type": "code",
   "execution_count": 6,
   "metadata": {},
   "outputs": [
    {
     "name": "stdout",
     "output_type": "stream",
     "text": [
      "I will give you 0 hugs.\n",
      "I will give you 2 hugs.\n",
      "I will give you 4 hugs.\n",
      "I will give you 6 hugs.\n",
      "I will give you 8 hugs.\n",
      "I will give you 10 hugs.\n",
      "I will give you 12 hugs.\n",
      "I will give you 14 hugs.\n",
      "I will give you 16 hugs.\n",
      "I will give you 18 hugs.\n",
      "I will give you 20 hugs.\n"
     ]
    }
   ],
   "source": [
    "a=2\n",
    "for i in range(11):\n",
    "    k=a*i\n",
    "    print(\"I will give you\", k, \"hugs.\")"
   ]
  },
  {
   "cell_type": "code",
   "execution_count": 7,
   "metadata": {},
   "outputs": [
    {
     "name": "stdout",
     "output_type": "stream",
     "text": [
      "Sandeep,\n",
      "When I give u 0 hugs, you have to give me 0 hugs.\n",
      "When I give u 1 hugs, you have to give me 10 hugs.\n",
      "When I give u 2 hugs, you have to give me 20 hugs.\n",
      "When I give u 3 hugs, you have to give me 30 hugs.\n",
      "When I give u 4 hugs, you have to give me 40 hugs.\n",
      "When I give u 5 hugs, you have to give me 50 hugs.\n",
      "When I give u 6 hugs, you have to give me 60 hugs.\n",
      "When I give u 7 hugs, you have to give me 70 hugs.\n",
      "When I give u 8 hugs, you have to give me 80 hugs.\n",
      "When I give u 9 hugs, you have to give me 90 hugs.\n",
      "When I give u 10 hugs, you have to give me 100 hugs.\n",
      "When I give u 11 hugs, you have to give me 110 hugs.\n",
      "When I give u 12 hugs, you have to give me 120 hugs.\n",
      "When I give u 13 hugs, you have to give me 130 hugs.\n",
      "When I give u 14 hugs, you have to give me 140 hugs.\n",
      "When I give u 15 hugs, you have to give me 150 hugs.\n",
      "When I give u 16 hugs, you have to give me 160 hugs.\n",
      "When I give u 17 hugs, you have to give me 170 hugs.\n",
      "When I give u 18 hugs, you have to give me 180 hugs.\n",
      "When I give u 19 hugs, you have to give me 190 hugs.\n",
      "When I give u 20 hugs, you have to give me 200 hugs.\n",
      "When I give u 21 hugs, you have to give me 210 hugs.\n",
      "When I give u 22 hugs, you have to give me 220 hugs.\n",
      "When I give u 23 hugs, you have to give me 230 hugs.\n",
      "When I give u 24 hugs, you have to give me 240 hugs.\n",
      "When I give u 25 hugs, you have to give me 250 hugs.\n",
      "When I give u 26 hugs, you have to give me 260 hugs.\n",
      "When I give u 27 hugs, you have to give me 270 hugs.\n",
      "When I give u 28 hugs, you have to give me 280 hugs.\n",
      "When I give u 29 hugs, you have to give me 290 hugs.\n",
      "When I give u 30 hugs, you have to give me 300 hugs.\n",
      "When I give u 31 hugs, you have to give me 310 hugs.\n",
      "When I give u 32 hugs, you have to give me 320 hugs.\n",
      "When I give u 33 hugs, you have to give me 330 hugs.\n",
      "When I give u 34 hugs, you have to give me 340 hugs.\n",
      "When I give u 35 hugs, you have to give me 350 hugs.\n",
      "When I give u 36 hugs, you have to give me 360 hugs.\n",
      "When I give u 37 hugs, you have to give me 370 hugs.\n",
      "When I give u 38 hugs, you have to give me 380 hugs.\n",
      "When I give u 39 hugs, you have to give me 390 hugs.\n",
      "When I give u 40 hugs, you have to give me 400 hugs.\n",
      "When I give u 41 hugs, you have to give me 410 hugs.\n",
      "When I give u 42 hugs, you have to give me 420 hugs.\n",
      "When I give u 43 hugs, you have to give me 430 hugs.\n",
      "When I give u 44 hugs, you have to give me 440 hugs.\n",
      "When I give u 45 hugs, you have to give me 450 hugs.\n",
      "When I give u 46 hugs, you have to give me 460 hugs.\n",
      "When I give u 47 hugs, you have to give me 470 hugs.\n",
      "When I give u 48 hugs, you have to give me 480 hugs.\n",
      "When I give u 49 hugs, you have to give me 490 hugs.\n",
      "When I give u 50 hugs, you have to give me 500 hugs.\n",
      "When I give u 51 hugs, you have to give me 510 hugs.\n",
      "When I give u 52 hugs, you have to give me 520 hugs.\n",
      "When I give u 53 hugs, you have to give me 530 hugs.\n",
      "When I give u 54 hugs, you have to give me 540 hugs.\n",
      "When I give u 55 hugs, you have to give me 550 hugs.\n",
      "When I give u 56 hugs, you have to give me 560 hugs.\n",
      "When I give u 57 hugs, you have to give me 570 hugs.\n",
      "When I give u 58 hugs, you have to give me 580 hugs.\n",
      "When I give u 59 hugs, you have to give me 590 hugs.\n",
      "When I give u 60 hugs, you have to give me 600 hugs.\n",
      "When I give u 61 hugs, you have to give me 610 hugs.\n",
      "When I give u 62 hugs, you have to give me 620 hugs.\n",
      "When I give u 63 hugs, you have to give me 630 hugs.\n",
      "When I give u 64 hugs, you have to give me 640 hugs.\n",
      "When I give u 65 hugs, you have to give me 650 hugs.\n",
      "When I give u 66 hugs, you have to give me 660 hugs.\n",
      "When I give u 67 hugs, you have to give me 670 hugs.\n",
      "When I give u 68 hugs, you have to give me 680 hugs.\n",
      "When I give u 69 hugs, you have to give me 690 hugs.\n",
      "When I give u 70 hugs, you have to give me 700 hugs.\n",
      "When I give u 71 hugs, you have to give me 710 hugs.\n",
      "When I give u 72 hugs, you have to give me 720 hugs.\n",
      "When I give u 73 hugs, you have to give me 730 hugs.\n",
      "When I give u 74 hugs, you have to give me 740 hugs.\n",
      "When I give u 75 hugs, you have to give me 750 hugs.\n",
      "When I give u 76 hugs, you have to give me 760 hugs.\n",
      "When I give u 77 hugs, you have to give me 770 hugs.\n",
      "When I give u 78 hugs, you have to give me 780 hugs.\n",
      "When I give u 79 hugs, you have to give me 790 hugs.\n",
      "When I give u 80 hugs, you have to give me 800 hugs.\n",
      "When I give u 81 hugs, you have to give me 810 hugs.\n",
      "When I give u 82 hugs, you have to give me 820 hugs.\n",
      "When I give u 83 hugs, you have to give me 830 hugs.\n",
      "When I give u 84 hugs, you have to give me 840 hugs.\n",
      "When I give u 85 hugs, you have to give me 850 hugs.\n",
      "When I give u 86 hugs, you have to give me 860 hugs.\n",
      "When I give u 87 hugs, you have to give me 870 hugs.\n",
      "When I give u 88 hugs, you have to give me 880 hugs.\n",
      "When I give u 89 hugs, you have to give me 890 hugs.\n",
      "When I give u 90 hugs, you have to give me 900 hugs.\n",
      "When I give u 91 hugs, you have to give me 910 hugs.\n",
      "When I give u 92 hugs, you have to give me 920 hugs.\n",
      "When I give u 93 hugs, you have to give me 930 hugs.\n",
      "When I give u 94 hugs, you have to give me 940 hugs.\n",
      "When I give u 95 hugs, you have to give me 950 hugs.\n",
      "When I give u 96 hugs, you have to give me 960 hugs.\n",
      "When I give u 97 hugs, you have to give me 970 hugs.\n",
      "When I give u 98 hugs, you have to give me 980 hugs.\n",
      "When I give u 99 hugs, you have to give me 990 hugs.\n",
      "When I give u 100 hugs, you have to give me 1000 hugs.\n"
     ]
    }
   ],
   "source": [
    "print(\"Sandeep,\")\n",
    "a=1\n",
    "for i in range(101):\n",
    "    k=i*10\n",
    "    print(\"When I give u\", i,\"hugs, you have to give me\", k, \"hugs.\")"
   ]
  },
  {
   "cell_type": "code",
   "execution_count": 8,
   "metadata": {},
   "outputs": [
    {
     "name": "stdout",
     "output_type": "stream",
     "text": [
      "Sandeep, which table you want to know? I will show you this by using for loop in python. Instead of other method this will be much interesting.\n",
      "112 X 0 = 0\n",
      "112 X 1 = 112\n",
      "112 X 2 = 224\n",
      "112 X 3 = 336\n",
      "112 X 4 = 448\n",
      "112 X 5 = 560\n",
      "112 X 6 = 672\n",
      "112 X 7 = 784\n",
      "112 X 8 = 896\n",
      "112 X 9 = 1008\n",
      "112 X 10 = 1120\n"
     ]
    }
   ],
   "source": [
    "print(\"Sandeep, which table you want to know? I will show you this by using for loop in python. Instead of other method this will be much interesting.\")\n",
    "t=input(\"Which table you want to know?\")\n",
    "t=int(t)\n",
    "for i in range(11):\n",
    "    print(t,\"X\",i,\"=\",t*i)\n",
    " "
   ]
  },
  {
   "attachments": {},
   "cell_type": "markdown",
   "metadata": {},
   "source": [
    "Now we will learn while loop."
   ]
  },
  {
   "cell_type": "code",
   "execution_count": 9,
   "metadata": {},
   "outputs": [
    {
     "name": "stdout",
     "output_type": "stream",
     "text": [
      "please come with 1 chocolates\n",
      "please come with 2 chocolates\n",
      "please come with 3 chocolates\n",
      "please come with 4 chocolates\n",
      "please come with 5 chocolates\n",
      "please come with 6 chocolates\n",
      "please come with 7 chocolates\n",
      "please come with 8 chocolates\n",
      "please come with 9 chocolates\n",
      "please come with 10 chocolates\n",
      "please come with 11 chocolates\n",
      "please come with 12 chocolates\n",
      "please come with 13 chocolates\n",
      "please come with 14 chocolates\n",
      "please come with 15 chocolates\n",
      "please come with 16 chocolates\n",
      "please come with 17 chocolates\n",
      "please come with 18 chocolates\n",
      "please come with 19 chocolates\n",
      "I am angry, I don't want any chocolate.\n"
     ]
    }
   ],
   "source": [
    "n=1\n",
    "c=1\n",
    "while(c==1):\n",
    "    print(\"please come with\",n, \"chocolates\")\n",
    "    c=input(\"continue?(0/1)\")\n",
    "    c=int(c)\n",
    "    n=n+1\n",
    "print(\"I am angry, I don't want any chocolate.\")    \n"
   ]
  },
  {
   "cell_type": "code",
   "execution_count": null,
   "metadata": {},
   "outputs": [],
   "source": []
  }
 ],
 "metadata": {
  "kernelspec": {
   "display_name": "base",
   "language": "python",
   "name": "python3"
  },
  "language_info": {
   "codemirror_mode": {
    "name": "ipython",
    "version": 3
   },
   "file_extension": ".py",
   "mimetype": "text/x-python",
   "name": "python",
   "nbconvert_exporter": "python",
   "pygments_lexer": "ipython3",
   "version": "3.9.13"
  },
  "orig_nbformat": 4,
  "vscode": {
   "interpreter": {
    "hash": "bfe1ecac983c562e00305dfe3139c700b00def61f8b7b32c0dd12dacd33ac83b"
   }
  }
 },
 "nbformat": 4,
 "nbformat_minor": 2
}
