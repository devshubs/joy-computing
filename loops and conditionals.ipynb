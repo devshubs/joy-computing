{
 "cells": [
  {
   "cell_type": "code",
   "execution_count": 2,
   "metadata": {},
   "outputs": [],
   "source": [
    "#fizbuzz"
   ]
  },
  {
   "cell_type": "code",
   "execution_count": 3,
   "metadata": {},
   "outputs": [
    {
     "data": {
      "text/plain": [
       "5"
      ]
     },
     "execution_count": 3,
     "metadata": {},
     "output_type": "execute_result"
    }
   ],
   "source": [
    "2+3"
   ]
  },
  {
   "cell_type": "code",
   "execution_count": 6,
   "metadata": {},
   "outputs": [
    {
     "name": "stdout",
     "output_type": "stream",
     "text": [
      "0\n",
      "1\n",
      "2\n",
      "3\n",
      "4\n",
      "5\n",
      "6\n",
      "7\n",
      "8\n",
      "9\n",
      "10\n",
      "11\n",
      "12\n",
      "13\n",
      "14\n",
      "15\n",
      "16\n",
      "17\n",
      "18\n",
      "19\n",
      "20\n",
      "21\n",
      "22\n",
      "23\n",
      "24\n",
      "25\n",
      "26\n",
      "27\n",
      "28\n",
      "29\n",
      "30\n",
      "31\n",
      "32\n",
      "33\n",
      "34\n",
      "35\n",
      "36\n",
      "37\n",
      "38\n",
      "39\n",
      "40\n",
      "41\n",
      "42\n",
      "43\n",
      "44\n",
      "45\n",
      "46\n",
      "47\n",
      "48\n",
      "49\n"
     ]
    }
   ],
   "source": [
    "for i in range(50):\n",
    "    print(i)"
   ]
  },
  {
   "cell_type": "code",
   "execution_count": 7,
   "metadata": {},
   "outputs": [
    {
     "name": "stdout",
     "output_type": "stream",
     "text": [
      "1\n",
      "2\n",
      "3\n",
      "4\n",
      "5\n",
      "6\n",
      "7\n",
      "8\n",
      "9\n",
      "10\n",
      "11\n",
      "12\n",
      "13\n",
      "14\n",
      "15\n",
      "16\n",
      "17\n",
      "18\n",
      "19\n",
      "20\n",
      "21\n",
      "22\n",
      "23\n",
      "24\n",
      "25\n",
      "26\n",
      "27\n",
      "28\n",
      "29\n",
      "30\n",
      "31\n",
      "32\n",
      "33\n",
      "34\n",
      "35\n",
      "36\n",
      "37\n",
      "38\n",
      "39\n",
      "40\n",
      "41\n",
      "42\n",
      "43\n",
      "44\n",
      "45\n",
      "46\n",
      "47\n",
      "48\n",
      "49\n",
      "50\n"
     ]
    }
   ],
   "source": [
    "for i in range(1,51):\n",
    "    print(i)"
   ]
  },
  {
   "cell_type": "code",
   "execution_count": 13,
   "metadata": {},
   "outputs": [
    {
     "name": "stdout",
     "output_type": "stream",
     "text": [
      "fizz\n",
      "buzz\n",
      "fizz\n",
      "fizz\n",
      "buzz\n",
      "fizz\n",
      "fizz\n",
      "fizz\n",
      "buzz\n",
      "fizz\n",
      "fizz\n",
      "buzz\n",
      "fizz\n",
      "fizz\n",
      "fizz\n",
      "buzz\n",
      "fizz\n",
      "fizz\n",
      "buzz\n",
      "fizz\n",
      "fizz\n",
      "fizz\n",
      "buzz\n"
     ]
    }
   ],
   "source": [
    "for i in range(1,51):\n",
    "    if(i%3==0):\n",
    "        print(\"fizz\")\n",
    "    else:\n",
    "        if(i%5==0):\n",
    "            print(\"buzz\")\n",
    "        else:\n",
    "             if(i%3==0 and i%5==0):\n",
    "                 print(\"fizzbuzz\")"
   ]
  },
  {
   "cell_type": "code",
   "execution_count": 14,
   "metadata": {},
   "outputs": [
    {
     "data": {
      "text/plain": [
       "'RamShyam'"
      ]
     },
     "execution_count": 14,
     "metadata": {},
     "output_type": "execute_result"
    }
   ],
   "source": [
    "\"Ram\"+\"Shyam\""
   ]
  },
  {
   "cell_type": "code",
   "execution_count": 25,
   "metadata": {},
   "outputs": [
    {
     "name": "stdout",
     "output_type": "stream",
     "text": [
      "1\n",
      "2\n",
      "3=fizz\n",
      "4\n",
      "5=buzz\n",
      "6=fizz\n",
      "7\n",
      "8\n",
      "9=fizz\n",
      "10=buzz\n",
      "11\n",
      "12=fizz\n",
      "13\n",
      "14\n",
      "15=fizz\n",
      "16\n",
      "17\n",
      "18=fizz\n",
      "19\n",
      "20=buzz\n",
      "21=fizz\n",
      "22\n",
      "23\n",
      "24=fizz\n",
      "25=buzz\n",
      "26\n",
      "27=fizz\n",
      "28\n",
      "29\n",
      "30=fizz\n",
      "31\n",
      "32\n",
      "33=fizz\n",
      "34\n",
      "35=buzz\n",
      "36=fizz\n",
      "37\n",
      "38\n",
      "39=fizz\n",
      "40=buzz\n",
      "41\n",
      "42=fizz\n",
      "43\n",
      "44\n",
      "45=fizz\n",
      "46\n",
      "47\n",
      "48=fizz\n",
      "49\n",
      "50=buzz\n"
     ]
    }
   ],
   "source": [
    "for i in range(1,51):\n",
    "    if(i%3==0):\n",
    "        print(str(i)+\"=fizz\")\n",
    "    else:\n",
    "        if(i%5==0):\n",
    "            print(str(i)+ \"=buzz\")\n",
    "        else:\n",
    "             if(i%3==0 and i%5==0):\n",
    "                 print(str(i)+ \"=fizzbuzz\")\n",
    "             else:\n",
    "                print(str(i))"
   ]
  },
  {
   "cell_type": "code",
   "execution_count": 36,
   "metadata": {},
   "outputs": [
    {
     "name": "stdout",
     "output_type": "stream",
     "text": [
      "1\n",
      "2\n",
      "3=fizz\n",
      "4\n",
      "5=buzz\n",
      "6=fizz\n",
      "7\n",
      "8\n",
      "9=fizz\n",
      "10=buzz\n",
      "11\n",
      "12=fizz\n",
      "13\n",
      "14\n",
      "15=fizzbuzz\n",
      "16\n",
      "17\n",
      "18=fizz\n",
      "19\n",
      "20=buzz\n",
      "21=fizz\n",
      "22\n",
      "23\n",
      "24=fizz\n",
      "25=buzz\n",
      "26\n",
      "27=fizz\n",
      "28\n",
      "29\n",
      "30=fizzbuzz\n",
      "31\n",
      "32\n",
      "33=fizz\n",
      "34\n",
      "35=buzz\n",
      "36=fizz\n",
      "37\n",
      "38\n",
      "39=fizz\n",
      "40=buzz\n",
      "41\n",
      "42=fizz\n",
      "43\n",
      "44\n",
      "45=fizzbuzz\n",
      "46\n",
      "47\n",
      "48=fizz\n",
      "49\n",
      "50=buzz\n"
     ]
    }
   ],
   "source": [
    "\n",
    "     for i in range(1,51):\n",
    "         if(i%3==0 and i%5==0):\n",
    "             print(str(i)+ \"=fizzbuzz\")\n",
    "         else:\n",
    "             if(i%3==0):\n",
    "                 print(str(i)+\"=fizz\")\n",
    "             else:\n",
    "                 if(i%5==0):\n",
    "                     print(str(i)+ \"=buzz\")\n",
    "                 else:\n",
    "                     print(str(i))\n",
    "\n",
    "       \n"
   ]
  },
  {
   "cell_type": "code",
   "execution_count": 37,
   "metadata": {},
   "outputs": [],
   "source": [
    "def fizzbuzz(r):\n",
    "     for i in range(1,51):\n",
    "         if(i%3==0 and i%5==0):\n",
    "             print(str(i)+ \"=fizzbuzz\")\n",
    "         else:\n",
    "             if(i%3==0):\n",
    "                 print(str(i)+\"=fizz\")\n",
    "             else:\n",
    "                 if(i%5==0):\n",
    "                     print(str(i)+ \"=buzz\")\n",
    "                 else:\n",
    "                     print(str(i))\n"
   ]
  },
  {
   "cell_type": "code",
   "execution_count": 39,
   "metadata": {},
   "outputs": [
    {
     "name": "stdout",
     "output_type": "stream",
     "text": [
      "1\n",
      "2\n",
      "3=fizz\n",
      "4\n",
      "5=buzz\n",
      "6=fizz\n",
      "7\n",
      "8\n",
      "9=fizz\n",
      "10=buzz\n",
      "11\n",
      "12=fizz\n",
      "13\n",
      "14\n",
      "15=fizzbuzz\n",
      "16\n",
      "17\n",
      "18=fizz\n",
      "19\n",
      "20=buzz\n",
      "21=fizz\n",
      "22\n",
      "23\n",
      "24=fizz\n",
      "25=buzz\n",
      "26\n",
      "27=fizz\n",
      "28\n",
      "29\n",
      "30=fizzbuzz\n",
      "31\n",
      "32\n",
      "33=fizz\n",
      "34\n",
      "35=buzz\n",
      "36=fizz\n",
      "37\n",
      "38\n",
      "39=fizz\n",
      "40=buzz\n",
      "41\n",
      "42=fizz\n",
      "43\n",
      "44\n",
      "45=fizzbuzz\n",
      "46\n",
      "47\n",
      "48=fizz\n",
      "49\n",
      "50=buzz\n"
     ]
    }
   ],
   "source": [
    "fizzbuzz(51)"
   ]
  },
  {
   "cell_type": "code",
   "execution_count": null,
   "metadata": {},
   "outputs": [],
   "source": []
  }
 ],
 "metadata": {
  "kernelspec": {
   "display_name": "base",
   "language": "python",
   "name": "python3"
  },
  "language_info": {
   "codemirror_mode": {
    "name": "ipython",
    "version": 3
   },
   "file_extension": ".py",
   "mimetype": "text/x-python",
   "name": "python",
   "nbconvert_exporter": "python",
   "pygments_lexer": "ipython3",
   "version": "3.9.13"
  },
  "orig_nbformat": 4,
  "vscode": {
   "interpreter": {
    "hash": "bfe1ecac983c562e00305dfe3139c700b00def61f8b7b32c0dd12dacd33ac83b"
   }
  }
 },
 "nbformat": 4,
 "nbformat_minor": 2
}
